{
 "cells": [
  {
   "cell_type": "code",
   "execution_count": 1,
   "id": "4a5c668b",
   "metadata": {},
   "outputs": [
    {
     "data": {
      "text/html": [
       "<div>\n",
       "<style scoped>\n",
       "    .dataframe tbody tr th:only-of-type {\n",
       "        vertical-align: middle;\n",
       "    }\n",
       "\n",
       "    .dataframe tbody tr th {\n",
       "        vertical-align: top;\n",
       "    }\n",
       "\n",
       "    .dataframe thead th {\n",
       "        text-align: right;\n",
       "    }\n",
       "</style>\n",
       "<table border=\"1\" class=\"dataframe\">\n",
       "  <thead>\n",
       "    <tr style=\"text-align: right;\">\n",
       "      <th></th>\n",
       "      <th>venue</th>\n",
       "      <th>keywords</th>\n",
       "      <th>year</th>\n",
       "      <th>author</th>\n",
       "    </tr>\n",
       "  </thead>\n",
       "  <tbody>\n",
       "    <tr>\n",
       "      <th>0</th>\n",
       "      <td></td>\n",
       "      <td>[64, 1, 322, 134, 136, 396, 270, 144, 476, 481...</td>\n",
       "      <td>2017</td>\n",
       "      <td>[1605, 759]</td>\n",
       "    </tr>\n",
       "    <tr>\n",
       "      <th>1</th>\n",
       "      <td>0</td>\n",
       "      <td>[258, 260, 389, 261, 390, 396, 400, 17, 146, 2...</td>\n",
       "      <td>2013</td>\n",
       "      <td>[2182]</td>\n",
       "    </tr>\n",
       "    <tr>\n",
       "      <th>2</th>\n",
       "      <td>1</td>\n",
       "      <td>[320, 454, 266, 462, 17, 339, 404, 342, 407, 2...</td>\n",
       "      <td>2007</td>\n",
       "      <td>[2176]</td>\n",
       "    </tr>\n",
       "    <tr>\n",
       "      <th>3</th>\n",
       "      <td>2</td>\n",
       "      <td>[260, 132, 333, 15, 400, 272, 146, 401, 278, 3...</td>\n",
       "      <td>2013</td>\n",
       "      <td>[1107]</td>\n",
       "    </tr>\n",
       "    <tr>\n",
       "      <th>4</th>\n",
       "      <td>3</td>\n",
       "      <td>[64, 385, 449, 450, 71, 73, 268, 80, 216, 25, ...</td>\n",
       "      <td>2009</td>\n",
       "      <td>[1414]</td>\n",
       "    </tr>\n",
       "  </tbody>\n",
       "</table>\n",
       "</div>"
      ],
      "text/plain": [
       "  venue                                           keywords  year       author\n",
       "0        [64, 1, 322, 134, 136, 396, 270, 144, 476, 481...  2017  [1605, 759]\n",
       "1     0  [258, 260, 389, 261, 390, 396, 400, 17, 146, 2...  2013       [2182]\n",
       "2     1  [320, 454, 266, 462, 17, 339, 404, 342, 407, 2...  2007       [2176]\n",
       "3     2  [260, 132, 333, 15, 400, 272, 146, 401, 278, 3...  2013       [1107]\n",
       "4     3  [64, 385, 449, 450, 71, 73, 268, 80, 216, 25, ...  2009       [1414]"
      ]
     },
     "execution_count": 1,
     "metadata": {},
     "output_type": "execute_result"
    }
   ],
   "source": [
    "import pandas as pd\n",
    "import numpy as np\n",
    "\n",
    "df = pd.read_json('train.json').T\n",
    "df.head()"
   ]
  },
  {
   "cell_type": "code",
   "execution_count": 2,
   "id": "6218affd",
   "metadata": {},
   "outputs": [
    {
     "data": {
      "text/html": [
       "<div>\n",
       "<style scoped>\n",
       "    .dataframe tbody tr th:only-of-type {\n",
       "        vertical-align: middle;\n",
       "    }\n",
       "\n",
       "    .dataframe tbody tr th {\n",
       "        vertical-align: top;\n",
       "    }\n",
       "\n",
       "    .dataframe thead th {\n",
       "        text-align: right;\n",
       "    }\n",
       "</style>\n",
       "<table border=\"1\" class=\"dataframe\">\n",
       "  <thead>\n",
       "    <tr style=\"text-align: right;\">\n",
       "      <th></th>\n",
       "      <th>venue</th>\n",
       "      <th>keywords</th>\n",
       "      <th>year</th>\n",
       "      <th>author</th>\n",
       "    </tr>\n",
       "  </thead>\n",
       "  <tbody>\n",
       "    <tr>\n",
       "      <th>0</th>\n",
       "      <td>NaN</td>\n",
       "      <td>64,1,322,134,136,396,270,144,476,481,165,39,36...</td>\n",
       "      <td>2017</td>\n",
       "      <td>1605,759</td>\n",
       "    </tr>\n",
       "    <tr>\n",
       "      <th>1</th>\n",
       "      <td>0</td>\n",
       "      <td>258,260,389,261,390,396,400,17,146,274,21,283,...</td>\n",
       "      <td>2013</td>\n",
       "      <td>2182</td>\n",
       "    </tr>\n",
       "    <tr>\n",
       "      <th>2</th>\n",
       "      <td>1</td>\n",
       "      <td>320,454,266,462,17,339,404,342,407,25,154,474,...</td>\n",
       "      <td>2007</td>\n",
       "      <td>2176</td>\n",
       "    </tr>\n",
       "    <tr>\n",
       "      <th>3</th>\n",
       "      <td>2</td>\n",
       "      <td>260,132,333,15,400,272,146,401,278,342,25,346,...</td>\n",
       "      <td>2013</td>\n",
       "      <td>1107</td>\n",
       "    </tr>\n",
       "    <tr>\n",
       "      <th>4</th>\n",
       "      <td>3</td>\n",
       "      <td>64,385,449,450,71,73,268,80,216,25,161,226,166...</td>\n",
       "      <td>2009</td>\n",
       "      <td>1414</td>\n",
       "    </tr>\n",
       "  </tbody>\n",
       "</table>\n",
       "</div>"
      ],
      "text/plain": [
       "  venue                                           keywords  year    author\n",
       "0   NaN  64,1,322,134,136,396,270,144,476,481,165,39,36...  2017  1605,759\n",
       "1     0  258,260,389,261,390,396,400,17,146,274,21,283,...  2013      2182\n",
       "2     1  320,454,266,462,17,339,404,342,407,25,154,474,...  2007      2176\n",
       "3     2  260,132,333,15,400,272,146,401,278,342,25,346,...  2013      1107\n",
       "4     3  64,385,449,450,71,73,268,80,216,25,161,226,166...  2009      1414"
      ]
     },
     "execution_count": 2,
     "metadata": {},
     "output_type": "execute_result"
    }
   ],
   "source": [
    "df['keywords'] = df['keywords'].apply(lambda k: ','.join(map(str,k)))\n",
    "df['author'] = df['author'].apply(lambda a: ','.join(map(str,a)))\n",
    "df = df.replace(r'^\\s*$',np.nan,regex = True)\n",
    "\n",
    "df.head()"
   ]
  },
  {
   "cell_type": "code",
   "execution_count": 3,
   "id": "8ff10561",
   "metadata": {},
   "outputs": [],
   "source": [
    "df_author = [a for a in df['author'].values]\n",
    "\n",
    "for i in range(len(df_author)):\n",
    "    df_author[i] = df_author[i].split(',')\n",
    "    \n",
    "for i in range(len(df_author)):\n",
    "    for j in range(len(df_author[i])):\n",
    "        df_author[i][j]= int(df_author[i][j])"
   ]
  },
  {
   "cell_type": "code",
   "execution_count": 4,
   "id": "238ad52d",
   "metadata": {},
   "outputs": [],
   "source": [
    "labels = np.zeros([26108, 2302]).astype(int)\n",
    "\n",
    "for i in range(len(df_author)):\n",
    "    for j in range(len(df_author[i])):\n",
    "        index = df_author[i][j]\n",
    "        labels[i][index] = int(1)"
   ]
  },
  {
   "cell_type": "code",
   "execution_count": 5,
   "id": "6b0aec34",
   "metadata": {},
   "outputs": [],
   "source": [
    "for i in range(len(df['author'])):\n",
    "    df['author'][i] = df['author'][i].split(',')\n",
    "    for j in range(len(df['author'][i])):\n",
    "        df['author'][i][j] = int(df['author'][i][j])"
   ]
  },
  {
   "cell_type": "code",
   "execution_count": 7,
   "id": "336ede56",
   "metadata": {},
   "outputs": [],
   "source": [
    "indexs = []\n",
    "count_author = 0\n",
    "for i in range(2302):\n",
    "    index = []\n",
    "    for j in range(26108):\n",
    "        if count_author in df['author'][j]:\n",
    "              for k in range(len(df['author'][j])):\n",
    "                index.append(df['author'][j][k])\n",
    "    index = list(set(index))\n",
    "    indexs.append(index)\n",
    "    count_author += 1"
   ]
  },
  {
   "cell_type": "code",
   "execution_count": 8,
   "id": "dca7f5ba",
   "metadata": {},
   "outputs": [],
   "source": [
    "author_labels = list(map(list, zip(*labels)))\n",
    "datasets = []\n",
    "for i in range(2302):\n",
    "    dataset = []\n",
    "    keyword = []\n",
    "    author = []\n",
    "    for j in range(26108):\n",
    "        for k in range(len(indexs[i])):\n",
    "            if indexs[i][k] in df['author'][j]:\n",
    "                if df['keywords'][j] not in keyword:\n",
    "                    keyword.append(df['keywords'][j])\n",
    "                    author.append(author_labels[i][j])\n",
    "    dataset.append(keyword)\n",
    "    dataset.append(author)\n",
    "    datasets.append(dataset)"
   ]
  }
 ],
 "metadata": {
  "kernelspec": {
   "display_name": "Python 3 (ipykernel)",
   "language": "python",
   "name": "python3"
  },
  "language_info": {
   "codemirror_mode": {
    "name": "ipython",
    "version": 3
   },
   "file_extension": ".py",
   "mimetype": "text/x-python",
   "name": "python",
   "nbconvert_exporter": "python",
   "pygments_lexer": "ipython3",
   "version": "3.9.7"
  }
 },
 "nbformat": 4,
 "nbformat_minor": 5
}
